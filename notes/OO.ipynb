{
 "cells": [
  {
   "cell_type": "markdown",
   "metadata": {},
   "source": [
    "# Object-oriented programming"
   ]
  },
  {
   "cell_type": "markdown",
   "metadata": {},
   "source": [
    "# The big reveal"
   ]
  },
  {
   "cell_type": "markdown",
   "metadata": {},
   "source": [
    "So far we've been working with functions and packages of functions, as well as defining our own functions.  It turns out, though, that we've been working with objects all along, we just haven't recognize them as such. For example,"
   ]
  },
  {
   "cell_type": "code",
   "execution_count": 1,
   "metadata": {},
   "outputs": [
    {
     "data": {
      "text/plain": [
       "'hi'"
      ]
     },
     "execution_count": 1,
     "metadata": {},
     "output_type": "execute_result"
    }
   ],
   "source": [
    "x = 'Hi'\n",
    "x.lower()"
   ]
  },
  {
   "cell_type": "markdown",
   "metadata": {},
   "source": [
    "The string `x` is an object that we can send messages to."
   ]
  },
  {
   "cell_type": "code",
   "execution_count": 2,
   "metadata": {
    "scrolled": true
   },
   "outputs": [
    {
     "name": "stdout",
     "output_type": "stream",
     "text": [
      "<class 'str'>\n"
     ]
    }
   ],
   "source": [
    "print( type(x) )"
   ]
  },
  {
   "cell_type": "markdown",
   "metadata": {},
   "source": [
    "Even integers are objects:"
   ]
  },
  {
   "cell_type": "code",
   "execution_count": 3,
   "metadata": {},
   "outputs": [
    {
     "name": "stdout",
     "output_type": "stream",
     "text": [
      "['__abs__', '__add__', '__and__', '__bool__', '__ceil__', '__class__', '__delattr__', '__dir__', '__divmod__', '__doc__', '__eq__', '__float__', '__floor__', '__floordiv__', '__format__', '__ge__', '__getattribute__', '__getnewargs__', '__gt__', '__hash__', '__index__', '__init__', '__init_subclass__', '__int__', '__invert__', '__le__', '__lshift__', '__lt__', '__mod__', '__mul__', '__ne__', '__neg__', '__new__', '__or__', '__pos__', '__pow__', '__radd__', '__rand__', '__rdivmod__', '__reduce__', '__reduce_ex__', '__repr__', '__rfloordiv__', '__rlshift__', '__rmod__', '__rmul__', '__ror__', '__round__', '__rpow__', '__rrshift__', '__rshift__', '__rsub__', '__rtruediv__', '__rxor__', '__setattr__', '__sizeof__', '__str__', '__sub__', '__subclasshook__', '__truediv__', '__trunc__', '__xor__', 'bit_length', 'conjugate', 'denominator', 'from_bytes', 'imag', 'numerator', 'real', 'to_bytes']\n"
     ]
    }
   ],
   "source": [
    "print(dir(99))"
   ]
  },
  {
   "cell_type": "markdown",
   "metadata": {},
   "source": [
    "A *class* is the blueprint for an object and is basically the name of the type, `str` in this case. An object is called an *instance* of the class.\n",
    "\n",
    "In `x.lower()` we are sending the `lower` message to the `x` string object. Messages are really just functions associated with classes/objects."
   ]
  },
  {
   "cell_type": "code",
   "execution_count": 4,
   "metadata": {},
   "outputs": [
    {
     "data": {
      "text/plain": [
       "<function str.lower()>"
      ]
     },
     "execution_count": 4,
     "metadata": {},
     "output_type": "execute_result"
    }
   ],
   "source": [
    "x.lower"
   ]
  },
  {
   "cell_type": "markdown",
   "metadata": {},
   "source": [
    "In a language that does not support object learning programming, we would do something like:\n",
    "\n",
    "```python\n",
    "lower(x)\n",
    "```\n",
    "\n",
    "Python has both functions and object reprogramming which is why there is both `x.lower()` and:"
   ]
  },
  {
   "cell_type": "code",
   "execution_count": 5,
   "metadata": {},
   "outputs": [
    {
     "data": {
      "text/plain": [
       "2"
      ]
     },
     "execution_count": 5,
     "metadata": {},
     "output_type": "execute_result"
    }
   ],
   "source": [
    "len(x)"
   ]
  },
  {
   "cell_type": "markdown",
   "metadata": {},
   "source": [
    "The choice of function or \"message\" is up to the library designer, but `lower` only makes sense for strings so it makes sense to group it with the definition of `str`.\n",
    "\n",
    "In terms of implementation, however, `x.lower()` is actually implemented as `str.lower(x)` where `str` is the class definition for strings. Computer processors understand function calls; they do not understand objects and so we performed this translation within the Python interpreter itself."
   ]
  },
  {
   "cell_type": "markdown",
   "metadata": {},
   "source": [
    "# Package vs object members\n",
    "\n",
    "Let's get another thing straight. The dot `.` operator is overloaded in Python to mean both package member and object member access.  You are familiar with this already:"
   ]
  },
  {
   "cell_type": "code",
   "execution_count": 6,
   "metadata": {
    "scrolled": false
   },
   "outputs": [
    {
     "data": {
      "text/plain": [
       "array([1, 2, 3])"
      ]
     },
     "execution_count": 6,
     "metadata": {},
     "output_type": "execute_result"
    }
   ],
   "source": [
    "import numpy as np\n",
    "np.array([1,2,3])"
   ]
  },
  {
   "cell_type": "code",
   "execution_count": 7,
   "metadata": {},
   "outputs": [
    {
     "data": {
      "text/plain": [
       "8.006367567650246"
      ]
     },
     "execution_count": 7,
     "metadata": {},
     "output_type": "execute_result"
    }
   ],
   "source": [
    "import math\n",
    "math.log(3000)"
   ]
  },
  {
   "cell_type": "markdown",
   "metadata": {},
   "source": [
    "This is a common point of confusion when reading code. When we see `a.f()`, we don't know whether that function `f` is a member of the package identified by `a` or an object referred to by `a`.\n",
    "\n",
    "In the wordsim project, you defined a file called `wordsim.py` and then my `test_wordsim.py` file did `from wordsim import *` to pull in all your functions in `wordsim.py`."
   ]
  },
  {
   "cell_type": "markdown",
   "metadata": {},
   "source": [
    "## Exercise"
   ]
  },
  {
   "cell_type": "markdown",
   "metadata": {},
   "source": [
    "In the following, identify the *identifiers* (words) as package or function or field:\n",
    "\n",
    "1. `np.log(3)`\n",
    "1. `np.linalg.norm(v)`\n",
    "1. `from sklearn.ensemble import RandomForestRegressor`\n",
    "1. `pd.read_csv(\"foo.csv\")`\n",
    "1. `pd.read_csv`\n",
    "1. `'hi'.lower()`\n",
    "1. `'hi'.lower`\n",
    "1. `df_train.columns`\n",
    "1. `np.pi`\n",
    "1. `img = img.convert(\"L\")`\n",
    "\n",
    "Now, identify the data types of subexpressions and identify the *identifiers* (words) as package or function or field:\n",
    "\n",
    "1. `df[\"saledate\"].dt.year`\n",
    "1. `df_train.isnull().any().head(60)`"
   ]
  },
  {
   "cell_type": "markdown",
   "metadata": {},
   "source": [
    "# Fields versus methods\n",
    "\n",
    "Objects have functions, which we call *methods* to distinguish them from functions not associated with objects. Objects also have variables, which we call *fields* or *instance variables*.  \n",
    "\n",
    "Fields are the *state* of the object.  Methods are the *behavior* of the object.\n",
    "\n",
    "We've also been using fields all along, such as `df.columns` that gets the list of columns in a data frame."
   ]
  },
  {
   "cell_type": "code",
   "execution_count": 8,
   "metadata": {},
   "outputs": [
    {
     "name": "stdout",
     "output_type": "stream",
     "text": [
      "<class 'datetime.date'>\n",
      "2019\n",
      "8\n"
     ]
    }
   ],
   "source": [
    "import datetime\n",
    "now = datetime.date.today()\n",
    "print( type(now) )\n",
    "print( now.year ) # access field year\n",
    "print( now.month )"
   ]
  },
  {
   "cell_type": "markdown",
   "metadata": {},
   "source": [
    "If you try to access an objects function without the parentheses, the expression evaluates to the function object itself instead of calling it:"
   ]
  },
  {
   "cell_type": "code",
   "execution_count": 9,
   "metadata": {},
   "outputs": [
    {
     "data": {
      "text/plain": [
       "<function str.title()>"
      ]
     },
     "execution_count": 9,
     "metadata": {},
     "output_type": "execute_result"
    }
   ],
   "source": [
    "s='hi'\n",
    "s.title"
   ]
  },
  {
   "cell_type": "markdown",
   "metadata": {},
   "source": [
    "# A simple class definition"
   ]
  },
  {
   "cell_type": "markdown",
   "metadata": {},
   "source": [
    "A class is a blueprint for multiple objects, often called *instances*.  The class *encapsulates* the state and behavior of an object.\n",
    "\n",
    "Imagine an alien lands in your backyard and asks you to describe a car. You would probably describe its attributes, such as the number of wheels, and its functionality, such as can start and stop. These are the state and behavior. By defining them, we effectively define the object. The class name is just giving a name to the entity.\n",
    "\n",
    "By convention, class names should be capitalized like `Point`."
   ]
  },
  {
   "cell_type": "markdown",
   "metadata": {},
   "source": [
    "## Tuples as object substitutes\n",
    "\n",
    "The fields of an object are the data items we want to associate together. For example, if I want to track book titles/authors, I can use a list of tuples:"
   ]
  },
  {
   "cell_type": "code",
   "execution_count": 10,
   "metadata": {},
   "outputs": [
    {
     "data": {
      "image/svg+xml": [
       "<?xml version=\"1.0\" encoding=\"UTF-8\" standalone=\"no\"?>\n",
       "<!DOCTYPE svg PUBLIC \"-//W3C//DTD SVG 1.1//EN\"\n",
       " \"http://www.w3.org/Graphics/SVG/1.1/DTD/svg11.dtd\">\n",
       "<!-- Generated by graphviz version 2.40.1 (20161225.0304)\n",
       " -->\n",
       "<!-- Title: G Pages: 1 -->\n",
       "<svg width=\"187pt\" height=\"79pt\"\n",
       " viewBox=\"0.00 0.00 187.00 79.00\" xmlns=\"http://www.w3.org/2000/svg\" xmlns:xlink=\"http://www.w3.org/1999/xlink\">\n",
       "<g id=\"graph0\" class=\"graph\" transform=\"scale(1 1) rotate(0) translate(4 75)\">\n",
       "<title>G</title>\n",
       "<polygon fill=\"#ffffff\" stroke=\"transparent\" points=\"-4,4 -4,-75 183,-75 183,4 -4,4\"/>\n",
       "<!-- node4398259528 -->\n",
       "<g id=\"node1\" class=\"node\">\n",
       "<title>node4398259528</title>\n",
       "<polygon fill=\"#cfe2d4\" stroke=\"#444443\" stroke-width=\".5\" points=\"14,-52 0,-52 0,-18 14,-18 14,-52\"/>\n",
       "<polygon fill=\"#cfe2d4\" stroke=\"transparent\" points=\"1,-35 1,-51 13,-51 13,-35 1,-35\"/>\n",
       "<polyline fill=\"none\" stroke=\"#444443\" points=\"1,-35 13,-35 \"/>\n",
       "<text text-anchor=\"start\" x=\"4\" y=\"-40.8\" font-family=\"Helvetica,sans-Serif\" font-size=\"9.00\" fill=\"#444443\">0</text>\n",
       "<polygon fill=\"#cfe2d4\" stroke=\"transparent\" points=\"1,-19 1,-35 13,-35 13,-19 1,-19\"/>\n",
       "<text text-anchor=\"start\" x=\"4\" y=\"-24.8\" font-family=\"Helvetica,sans-Serif\" font-size=\"9.00\" fill=\"#444443\">1</text>\n",
       "</g>\n",
       "<!-- node4404095752 -->\n",
       "<g id=\"node2\" class=\"node\">\n",
       "<title>node4404095752</title>\n",
       "<polygon fill=\"none\" stroke=\"#000000\" stroke-width=\".5\" points=\"170,-71 45,-71 45,-39 170,-39 170,-71\"/>\n",
       "<polygon fill=\"#fefecd\" stroke=\"transparent\" points=\"46.5,-58 46.5,-70 106.5,-70 106.5,-58 46.5,-58\"/>\n",
       "<polyline fill=\"none\" stroke=\"#000000\" points=\"46.5,-58 106.5,-58 106.5,-70 \"/>\n",
       "<text text-anchor=\"start\" x=\"73.5\" y=\"-61.8\" font-family=\"Helvetica,sans-Serif\" font-size=\"9.00\" fill=\"#444443\">0</text>\n",
       "<polygon fill=\"#fefecd\" stroke=\"transparent\" points=\"106.5,-58 106.5,-70 169.5,-70 169.5,-58 106.5,-58\"/>\n",
       "<polyline fill=\"none\" stroke=\"#000000\" points=\"106.5,-58 169.5,-58 \"/>\n",
       "<text text-anchor=\"start\" x=\"135\" y=\"-61.8\" font-family=\"Helvetica,sans-Serif\" font-size=\"9.00\" fill=\"#444443\">1</text>\n",
       "<polygon fill=\"#fefecd\" stroke=\"transparent\" points=\"46.5,-40 46.5,-58 106.5,-58 106.5,-40 46.5,-40\"/>\n",
       "<polyline fill=\"none\" stroke=\"#000000\" points=\"106.5,-40 106.5,-58 \"/>\n",
       "<text text-anchor=\"start\" x=\"49.5\" y=\"-46.2\" font-family=\"Helvetica,sans-Serif\" font-size=\"11.00\" fill=\"#444443\">&#39;Gridlinked&#39;</text>\n",
       "<polygon fill=\"#fefecd\" stroke=\"transparent\" points=\"106.5,-40 106.5,-58 169.5,-58 169.5,-40 106.5,-40\"/>\n",
       "<text text-anchor=\"start\" x=\"108.5\" y=\"-46.2\" font-family=\"Helvetica,sans-Serif\" font-size=\"11.00\" fill=\"#444443\">&#39;Neal Asher&#39;</text>\n",
       "</g>\n",
       "<!-- node4398259528&#45;&gt;node4404095752 -->\n",
       "<g id=\"edge1\" class=\"edge\">\n",
       "<title>node4398259528:0&#45;&gt;node4404095752:w</title>\n",
       "<path fill=\"none\" stroke=\"#444443\" stroke-width=\".5\" d=\"M13,-43C26.4599,-43 29.0676,-52.6863 40.3232,-54.6538\"/>\n",
       "<polygon fill=\"#444443\" stroke=\"#444443\" stroke-width=\".5\" points=\"40.398,-56.0647 44.5,-55 40.6293,-53.2743 40.398,-56.0647\"/>\n",
       "</g>\n",
       "<!-- node4404127496 -->\n",
       "<g id=\"node3\" class=\"node\">\n",
       "<title>node4404127496</title>\n",
       "<polygon fill=\"none\" stroke=\"#000000\" stroke-width=\".5\" points=\"179,-32 36,-32 36,0 179,0 179,-32\"/>\n",
       "<polygon fill=\"#fefecd\" stroke=\"transparent\" points=\"37.5,-19 37.5,-31 119.5,-31 119.5,-19 37.5,-19\"/>\n",
       "<polyline fill=\"none\" stroke=\"#000000\" points=\"37.5,-19 119.5,-19 119.5,-31 \"/>\n",
       "<text text-anchor=\"start\" x=\"75.5\" y=\"-22.8\" font-family=\"Helvetica,sans-Serif\" font-size=\"9.00\" fill=\"#444443\">0</text>\n",
       "<polygon fill=\"#fefecd\" stroke=\"transparent\" points=\"119.5,-19 119.5,-31 178.5,-31 178.5,-19 119.5,-19\"/>\n",
       "<polyline fill=\"none\" stroke=\"#000000\" points=\"119.5,-19 178.5,-19 \"/>\n",
       "<text text-anchor=\"start\" x=\"146\" y=\"-22.8\" font-family=\"Helvetica,sans-Serif\" font-size=\"9.00\" fill=\"#444443\">1</text>\n",
       "<polygon fill=\"#fefecd\" stroke=\"transparent\" points=\"37.5,-1 37.5,-19 119.5,-19 119.5,-1 37.5,-1\"/>\n",
       "<polyline fill=\"none\" stroke=\"#000000\" points=\"119.5,-1 119.5,-19 \"/>\n",
       "<text text-anchor=\"start\" x=\"40.5\" y=\"-7.2\" font-family=\"Helvetica,sans-Serif\" font-size=\"11.00\" fill=\"#444443\">&#39;Startide Rising&#39;</text>\n",
       "<polygon fill=\"#fefecd\" stroke=\"transparent\" points=\"119.5,-1 119.5,-19 178.5,-19 178.5,-1 119.5,-1\"/>\n",
       "<text text-anchor=\"start\" x=\"121.5\" y=\"-7.2\" font-family=\"Helvetica,sans-Serif\" font-size=\"11.00\" fill=\"#444443\">&#39;David Brin&#39;</text>\n",
       "</g>\n",
       "<!-- node4398259528&#45;&gt;node4404127496 -->\n",
       "<g id=\"edge2\" class=\"edge\">\n",
       "<title>node4398259528:1&#45;&gt;node4404127496:w</title>\n",
       "<path fill=\"none\" stroke=\"#444443\" stroke-width=\".5\" d=\"M13,-27C22.7377,-27 24.3565,-18.8762 31.8107,-16.5914\"/>\n",
       "<polygon fill=\"#444443\" stroke=\"#444443\" stroke-width=\".5\" points=\"32.235,-17.9455 36,-16 31.8435,-15.173 32.235,-17.9455\"/>\n",
       "</g>\n",
       "</g>\n",
       "</svg>\n"
      ],
      "text/plain": [
       "<graphviz.files.Source at 0x1066d4978>"
      ]
     },
     "execution_count": 10,
     "metadata": {},
     "output_type": "execute_result"
    }
   ],
   "source": [
    "from lolviz import *\n",
    "books = [\n",
    "    ('Gridlinked', 'Neal Asher'),\n",
    "    ('Startide Rising', 'David Brin')\n",
    "]\n",
    "\n",
    "objviz(books)"
   ]
  },
  {
   "cell_type": "code",
   "execution_count": 11,
   "metadata": {},
   "outputs": [
    {
     "name": "stdout",
     "output_type": "stream",
     "text": [
      "Neal Asher: Gridlinked\n",
      "David Brin: Startide Rising\n"
     ]
    }
   ],
   "source": [
    "for b in books:\n",
    "    print(f\"{b[1]}: {b[0]}\")"
   ]
  },
  {
   "cell_type": "code",
   "execution_count": 12,
   "metadata": {},
   "outputs": [
    {
     "name": "stdout",
     "output_type": "stream",
     "text": [
      "Neal Asher: Gridlinked\n",
      "David Brin: Startide Rising\n"
     ]
    }
   ],
   "source": [
    "# Or, more fancy\n",
    "for title, author in books:\n",
    "    print(f\"{author}: {title}\")"
   ]
  },
  {
   "cell_type": "markdown",
   "metadata": {},
   "source": [
    "To access the elements of the tuple in both cases, we have to keep track of the order in our heads. In other words, we have to access the tuple elements like they are list elements, which they are."
   ]
  },
  {
   "cell_type": "markdown",
   "metadata": {},
   "source": [
    "## Formal objects\n",
    "\n",
    "A better way is to formally declare that author and title data elements should be encapsulated into a single entity called a book. Python has what I consider an extremely quirky specification but it is extremely flexible. For example, we can define an object that has no methods and no fields but then can add fields dynamically with assignment statements:"
   ]
  },
  {
   "cell_type": "code",
   "execution_count": 13,
   "metadata": {},
   "outputs": [
    {
     "name": "stdout",
     "output_type": "stream",
     "text": [
      "<__main__.Book object at 0x10f7540b8>\n",
      "Gridlinked Neal Asher\n"
     ]
    },
    {
     "data": {
      "image/svg+xml": [
       "<?xml version=\"1.0\" encoding=\"UTF-8\" standalone=\"no\"?>\n",
       "<!DOCTYPE svg PUBLIC \"-//W3C//DTD SVG 1.1//EN\"\n",
       " \"http://www.w3.org/Graphics/SVG/1.1/DTD/svg11.dtd\">\n",
       "<!-- Generated by graphviz version 2.40.1 (20161225.0304)\n",
       " -->\n",
       "<!-- Title: G Pages: 1 -->\n",
       "<svg width=\"113pt\" height=\"58pt\"\n",
       " viewBox=\"0.00 0.00 113.00 58.00\" xmlns=\"http://www.w3.org/2000/svg\" xmlns:xlink=\"http://www.w3.org/1999/xlink\">\n",
       "<g id=\"graph0\" class=\"graph\" transform=\"scale(1 1) rotate(0) translate(4 54)\">\n",
       "<title>G</title>\n",
       "<polygon fill=\"#ffffff\" stroke=\"transparent\" points=\"-4,4 -4,-54 109,-54 109,4 -4,4\"/>\n",
       "<!-- node4554309816 -->\n",
       "<g id=\"node1\" class=\"node\">\n",
       "<title>node4554309816</title>\n",
       "<polygon fill=\"#fefecd\" stroke=\"#444443\" stroke-width=\".5\" points=\"105,-50 0,-50 0,0 105,0 105,-50\"/>\n",
       "<polygon fill=\"#fefecd\" stroke=\"transparent\" points=\"2.5,-34 2.5,-48 103.5,-48 103.5,-34 2.5,-34\"/>\n",
       "<polyline fill=\"none\" stroke=\"#444443\" points=\"2.5,-34 103.5,-34 \"/>\n",
       "<text text-anchor=\"start\" x=\"41.5\" y=\"-38.2\" font-family=\"Times,serif\" font-style=\"italic\" font-size=\"11.00\" fill=\"#444443\">Book</text>\n",
       "<polygon fill=\"#fefecd\" stroke=\"transparent\" points=\"2.5,-32 2.5,-34 103.5,-34 103.5,-32 2.5,-32\"/>\n",
       "<polygon fill=\"#fefecd\" stroke=\"transparent\" points=\"2.5,-18 2.5,-32 39.5,-32 39.5,-18 2.5,-18\"/>\n",
       "<polyline fill=\"none\" stroke=\"#444443\" points=\"39.5,-18 39.5,-32 \"/>\n",
       "<text text-anchor=\"start\" x=\"17.5\" y=\"-22.2\" font-family=\"Helvetica,sans-Serif\" font-size=\"11.00\" fill=\"#444443\">title </text>\n",
       "<polygon fill=\"#fefecd\" stroke=\"transparent\" points=\"39.5,-18 39.5,-32 103.5,-32 103.5,-18 39.5,-18\"/>\n",
       "<text text-anchor=\"start\" x=\"40.5\" y=\"-22.2\" font-family=\"Helvetica,sans-Serif\" font-size=\"11.00\" fill=\"#444443\"> &#39;Gridlinked&#39;</text>\n",
       "<polygon fill=\"#fefecd\" stroke=\"transparent\" points=\"2.5,-16 2.5,-18 103.5,-18 103.5,-16 2.5,-16\"/>\n",
       "<polygon fill=\"#fefecd\" stroke=\"transparent\" points=\"2.5,-2 2.5,-16 39.5,-16 39.5,-2 2.5,-2\"/>\n",
       "<polyline fill=\"none\" stroke=\"#444443\" points=\"39.5,-2 39.5,-16 \"/>\n",
       "<text text-anchor=\"start\" x=\"3.5\" y=\"-6.2\" font-family=\"Helvetica,sans-Serif\" font-size=\"11.00\" fill=\"#444443\">author </text>\n",
       "<polygon fill=\"#fefecd\" stroke=\"transparent\" points=\"39.5,-2 39.5,-16 103.5,-16 103.5,-2 39.5,-2\"/>\n",
       "<text text-anchor=\"start\" x=\"40.5\" y=\"-6.2\" font-family=\"Helvetica,sans-Serif\" font-size=\"11.00\" fill=\"#444443\"> &#39;Neal Asher&#39;</text>\n",
       "</g>\n",
       "</g>\n",
       "</svg>\n"
      ],
      "text/plain": [
       "<graphviz.files.Source at 0x10f754208>"
      ]
     },
     "execution_count": 13,
     "metadata": {},
     "output_type": "execute_result"
    }
   ],
   "source": [
    "class Book:\n",
    "    pass\n",
    "\n",
    "b = Book()\n",
    "print(b)\n",
    "b.title = 'Gridlinked'\n",
    "b.author = 'Neal Asher'\n",
    "print(b.title, b.author)\n",
    "objviz(b)"
   ]
  },
  {
   "cell_type": "markdown",
   "metadata": {},
   "source": [
    "But this doesn't let us define methods associated with that object (easily). Let's take a look at our first real class definition that contains a function called a *constructor*."
   ]
  },
  {
   "cell_type": "code",
   "execution_count": 14,
   "metadata": {},
   "outputs": [],
   "source": [
    "class Book:\n",
    "    def __init__(self, title, author):\n",
    "        self.title = title\n",
    "        self.author = author\n",
    "        self.chapters = []"
   ]
  },
  {
   "cell_type": "markdown",
   "metadata": {},
   "source": [
    "The constructor typically sets initial and default field values based upon the arguments.\n",
    "\n",
    "All methods, functions defined within an object, must have an explicit first argument called `self`.  This is the object under consideration.\n",
    "\n",
    "Then we can make a list of book objects or instances of class `Book` using instance creation syntax `Book(...,...)`:"
   ]
  },
  {
   "cell_type": "code",
   "execution_count": 15,
   "metadata": {},
   "outputs": [],
   "source": [
    "books = [\n",
    "    Book('Gridlinked', 'Neal Asher'),\n",
    "    Book(title='David Brin', author='Startide Rising')\n",
    "]"
   ]
  },
  {
   "cell_type": "code",
   "execution_count": 16,
   "metadata": {},
   "outputs": [
    {
     "data": {
      "image/svg+xml": [
       "<?xml version=\"1.0\" encoding=\"UTF-8\" standalone=\"no\"?>\n",
       "<!DOCTYPE svg PUBLIC \"-//W3C//DTD SVG 1.1//EN\"\n",
       " \"http://www.w3.org/Graphics/SVG/1.1/DTD/svg11.dtd\">\n",
       "<!-- Generated by graphviz version 2.40.1 (20161225.0304)\n",
       " -->\n",
       "<!-- Title: G Pages: 1 -->\n",
       "<svg width=\"238pt\" height=\"147pt\"\n",
       " viewBox=\"0.00 0.00 238.00 147.00\" xmlns=\"http://www.w3.org/2000/svg\" xmlns:xlink=\"http://www.w3.org/1999/xlink\">\n",
       "<g id=\"graph0\" class=\"graph\" transform=\"scale(1 1) rotate(0) translate(4 143)\">\n",
       "<title>G</title>\n",
       "<polygon fill=\"#ffffff\" stroke=\"transparent\" points=\"-4,4 -4,-143 234,-143 234,4 -4,4\"/>\n",
       "<!-- node4554243272 -->\n",
       "<g id=\"node1\" class=\"node\">\n",
       "<title>node4554243272</title>\n",
       "<polygon fill=\"#cfe2d4\" stroke=\"#444443\" stroke-width=\".5\" points=\"14,-86 0,-86 0,-52 14,-52 14,-86\"/>\n",
       "<polygon fill=\"#cfe2d4\" stroke=\"transparent\" points=\"1,-69 1,-85 13,-85 13,-69 1,-69\"/>\n",
       "<polyline fill=\"none\" stroke=\"#444443\" points=\"1,-69 13,-69 \"/>\n",
       "<text text-anchor=\"start\" x=\"4\" y=\"-74.8\" font-family=\"Helvetica,sans-Serif\" font-size=\"9.00\" fill=\"#444443\">0</text>\n",
       "<polygon fill=\"#cfe2d4\" stroke=\"transparent\" points=\"1,-53 1,-69 13,-69 13,-53 1,-53\"/>\n",
       "<text text-anchor=\"start\" x=\"4\" y=\"-58.8\" font-family=\"Helvetica,sans-Serif\" font-size=\"9.00\" fill=\"#444443\">1</text>\n",
       "</g>\n",
       "<!-- node4554310936 -->\n",
       "<g id=\"node2\" class=\"node\">\n",
       "<title>node4554310936</title>\n",
       "<polygon fill=\"#fefecd\" stroke=\"#444443\" stroke-width=\".5\" points=\"160.5,-139 44.5,-139 44.5,-73 160.5,-73 160.5,-139\"/>\n",
       "<polygon fill=\"#fefecd\" stroke=\"transparent\" points=\"46.5,-123 46.5,-137 158.5,-137 158.5,-123 46.5,-123\"/>\n",
       "<polyline fill=\"none\" stroke=\"#444443\" points=\"46.5,-123 158.5,-123 \"/>\n",
       "<text text-anchor=\"start\" x=\"91\" y=\"-127.2\" font-family=\"Times,serif\" font-style=\"italic\" font-size=\"11.00\" fill=\"#444443\">Book</text>\n",
       "<polygon fill=\"#fefecd\" stroke=\"transparent\" points=\"46.5,-121 46.5,-123 158.5,-123 158.5,-121 46.5,-121\"/>\n",
       "<polygon fill=\"#fefecd\" stroke=\"transparent\" points=\"46.5,-107 46.5,-121 94.5,-121 94.5,-107 46.5,-107\"/>\n",
       "<polyline fill=\"none\" stroke=\"#444443\" points=\"94.5,-107 94.5,-121 \"/>\n",
       "<text text-anchor=\"start\" x=\"72.5\" y=\"-111.2\" font-family=\"Helvetica,sans-Serif\" font-size=\"11.00\" fill=\"#444443\">title </text>\n",
       "<polygon fill=\"#fefecd\" stroke=\"transparent\" points=\"94.5,-107 94.5,-121 158.5,-121 158.5,-107 94.5,-107\"/>\n",
       "<text text-anchor=\"start\" x=\"95.5\" y=\"-111.2\" font-family=\"Helvetica,sans-Serif\" font-size=\"11.00\" fill=\"#444443\"> &#39;Gridlinked&#39;</text>\n",
       "<polygon fill=\"#fefecd\" stroke=\"transparent\" points=\"46.5,-105 46.5,-107 158.5,-107 158.5,-105 46.5,-105\"/>\n",
       "<polygon fill=\"#fefecd\" stroke=\"transparent\" points=\"46.5,-91 46.5,-105 94.5,-105 94.5,-91 46.5,-91\"/>\n",
       "<polyline fill=\"none\" stroke=\"#444443\" points=\"94.5,-91 94.5,-105 \"/>\n",
       "<text text-anchor=\"start\" x=\"58.5\" y=\"-95.2\" font-family=\"Helvetica,sans-Serif\" font-size=\"11.00\" fill=\"#444443\">author </text>\n",
       "<polygon fill=\"#fefecd\" stroke=\"transparent\" points=\"94.5,-91 94.5,-105 158.5,-105 158.5,-91 94.5,-91\"/>\n",
       "<text text-anchor=\"start\" x=\"95.5\" y=\"-95.2\" font-family=\"Helvetica,sans-Serif\" font-size=\"11.00\" fill=\"#444443\"> &#39;Neal Asher&#39;</text>\n",
       "<polygon fill=\"#fefecd\" stroke=\"transparent\" points=\"46.5,-89 46.5,-91 158.5,-91 158.5,-89 46.5,-89\"/>\n",
       "<polygon fill=\"#fefecd\" stroke=\"transparent\" points=\"46.5,-75 46.5,-89 94.5,-89 94.5,-75 46.5,-75\"/>\n",
       "<polyline fill=\"none\" stroke=\"#444443\" points=\"94.5,-75 94.5,-89 \"/>\n",
       "<text text-anchor=\"start\" x=\"47.5\" y=\"-79.2\" font-family=\"Helvetica,sans-Serif\" font-size=\"11.00\" fill=\"#444443\">chapters </text>\n",
       "<polygon fill=\"#fefecd\" stroke=\"transparent\" points=\"94.5,-75 94.5,-89 158.5,-89 158.5,-75 94.5,-75\"/>\n",
       "<text text-anchor=\"start\" x=\"95.5\" y=\"-79.2\" font-family=\"Helvetica,sans-Serif\" font-size=\"11.00\" fill=\"#444443\"> &#160;&#160;&#160;</text>\n",
       "</g>\n",
       "<!-- node4554243272&#45;&gt;node4554310936 -->\n",
       "<g id=\"edge1\" class=\"edge\">\n",
       "<title>node4554243272:0&#45;&gt;node4554310936:w</title>\n",
       "<path fill=\"none\" stroke=\"#444443\" stroke-width=\".5\" d=\"M13,-77C30.5429,-77 26.3391,-101.6458 40.4841,-105.4967\"/>\n",
       "<polygon fill=\"#444443\" stroke=\"#444443\" stroke-width=\".5\" points=\"40.3569,-106.8916 44.5,-106 40.7052,-104.1133 40.3569,-106.8916\"/>\n",
       "</g>\n",
       "<!-- node4554310768 -->\n",
       "<g id=\"node4\" class=\"node\">\n",
       "<title>node4554310768</title>\n",
       "<polygon fill=\"#fefecd\" stroke=\"#444443\" stroke-width=\".5\" points=\"169,-66 36,-66 36,0 169,0 169,-66\"/>\n",
       "<polygon fill=\"#fefecd\" stroke=\"transparent\" points=\"38.5,-50 38.5,-64 167.5,-64 167.5,-50 38.5,-50\"/>\n",
       "<polyline fill=\"none\" stroke=\"#444443\" points=\"38.5,-50 167.5,-50 \"/>\n",
       "<text text-anchor=\"start\" x=\"91.5\" y=\"-54.2\" font-family=\"Times,serif\" font-style=\"italic\" font-size=\"11.00\" fill=\"#444443\">Book</text>\n",
       "<polygon fill=\"#fefecd\" stroke=\"transparent\" points=\"38.5,-48 38.5,-50 167.5,-50 167.5,-48 38.5,-48\"/>\n",
       "<polygon fill=\"#fefecd\" stroke=\"transparent\" points=\"38.5,-34 38.5,-48 86.5,-48 86.5,-34 38.5,-34\"/>\n",
       "<polyline fill=\"none\" stroke=\"#444443\" points=\"86.5,-34 86.5,-48 \"/>\n",
       "<text text-anchor=\"start\" x=\"64.5\" y=\"-38.2\" font-family=\"Helvetica,sans-Serif\" font-size=\"11.00\" fill=\"#444443\">title </text>\n",
       "<polygon fill=\"#fefecd\" stroke=\"transparent\" points=\"86.5,-34 86.5,-48 167.5,-48 167.5,-34 86.5,-34\"/>\n",
       "<text text-anchor=\"start\" x=\"87.5\" y=\"-38.2\" font-family=\"Helvetica,sans-Serif\" font-size=\"11.00\" fill=\"#444443\"> &#39;David Brin&#39;</text>\n",
       "<polygon fill=\"#fefecd\" stroke=\"transparent\" points=\"38.5,-32 38.5,-34 167.5,-34 167.5,-32 38.5,-32\"/>\n",
       "<polygon fill=\"#fefecd\" stroke=\"transparent\" points=\"38.5,-18 38.5,-32 86.5,-32 86.5,-18 38.5,-18\"/>\n",
       "<polyline fill=\"none\" stroke=\"#444443\" points=\"86.5,-18 86.5,-32 \"/>\n",
       "<text text-anchor=\"start\" x=\"50.5\" y=\"-22.2\" font-family=\"Helvetica,sans-Serif\" font-size=\"11.00\" fill=\"#444443\">author </text>\n",
       "<polygon fill=\"#fefecd\" stroke=\"transparent\" points=\"86.5,-18 86.5,-32 167.5,-32 167.5,-18 86.5,-18\"/>\n",
       "<text text-anchor=\"start\" x=\"87.5\" y=\"-22.2\" font-family=\"Helvetica,sans-Serif\" font-size=\"11.00\" fill=\"#444443\"> &#39;Startide Rising&#39;</text>\n",
       "<polygon fill=\"#fefecd\" stroke=\"transparent\" points=\"38.5,-16 38.5,-18 167.5,-18 167.5,-16 38.5,-16\"/>\n",
       "<polygon fill=\"#fefecd\" stroke=\"transparent\" points=\"38.5,-2 38.5,-16 86.5,-16 86.5,-2 38.5,-2\"/>\n",
       "<polyline fill=\"none\" stroke=\"#444443\" points=\"86.5,-2 86.5,-16 \"/>\n",
       "<text text-anchor=\"start\" x=\"39.5\" y=\"-6.2\" font-family=\"Helvetica,sans-Serif\" font-size=\"11.00\" fill=\"#444443\">chapters </text>\n",
       "<polygon fill=\"#fefecd\" stroke=\"transparent\" points=\"86.5,-2 86.5,-16 167.5,-16 167.5,-2 86.5,-2\"/>\n",
       "<text text-anchor=\"start\" x=\"87.5\" y=\"-6.2\" font-family=\"Helvetica,sans-Serif\" font-size=\"11.00\" fill=\"#444443\"> &#160;&#160;&#160;</text>\n",
       "</g>\n",
       "<!-- node4554243272&#45;&gt;node4554310768 -->\n",
       "<g id=\"edge2\" class=\"edge\">\n",
       "<title>node4554243272:1&#45;&gt;node4554310768:w</title>\n",
       "<path fill=\"none\" stroke=\"#444443\" stroke-width=\".5\" d=\"M13,-61C27.469,-61 21.5049,-38.3987 31.8234,-33.8078\"/>\n",
       "<polygon fill=\"#444443\" stroke=\"#444443\" stroke-width=\".5\" points=\"32.3387,-35.1342 36,-33 31.8069,-32.3851 32.3387,-35.1342\"/>\n",
       "</g>\n",
       "<!-- node4384859528 -->\n",
       "<g id=\"node3\" class=\"node\">\n",
       "<title>node4384859528</title>\n",
       "<text text-anchor=\"start\" x=\"193\" y=\"-79.8\" font-family=\"Times,serif\" font-style=\"italic\" font-size=\"9.00\" fill=\"#444443\">empty list</text>\n",
       "</g>\n",
       "<!-- node4554310936&#45;&gt;node4384859528 -->\n",
       "<g id=\"edge3\" class=\"edge\">\n",
       "<title>node4554310936:c&#45;&gt;node4384859528</title>\n",
       "<path fill=\"none\" stroke=\"#444443\" stroke-width=\".5\" d=\"M129.7063,-82C138.9127,-82 166.0686,-82 186.3733,-82\"/>\n",
       "<ellipse fill=\"#444443\" stroke=\"#444443\" stroke-width=\".5\" cx=\"128.1\" cy=\"-82\" rx=\"1.6\" ry=\"1.6\"/>\n",
       "<polygon fill=\"#444443\" stroke=\"#444443\" stroke-width=\".5\" points=\"186.5932,-83.4001 190.5932,-82 186.5931,-80.6001 186.5932,-83.4001\"/>\n",
       "</g>\n",
       "<!-- node4385030664 -->\n",
       "<g id=\"node5\" class=\"node\">\n",
       "<title>node4385030664</title>\n",
       "<text text-anchor=\"start\" x=\"193\" y=\"-6.8\" font-family=\"Times,serif\" font-style=\"italic\" font-size=\"9.00\" fill=\"#444443\">empty list</text>\n",
       "</g>\n",
       "<!-- node4554310768&#45;&gt;node4385030664 -->\n",
       "<g id=\"edge4\" class=\"edge\">\n",
       "<title>node4554310768:c&#45;&gt;node4385030664</title>\n",
       "<path fill=\"none\" stroke=\"#444443\" stroke-width=\".5\" d=\"M130.9493,-9C140.3128,-9 166.8362,-9 186.7009,-9\"/>\n",
       "<ellipse fill=\"#444443\" stroke=\"#444443\" stroke-width=\".5\" cx=\"129.1\" cy=\"-9\" rx=\"1.6\" ry=\"1.6\"/>\n",
       "<polygon fill=\"#444443\" stroke=\"#444443\" stroke-width=\".5\" points=\"186.8302,-10.4001 190.8302,-9 186.8301,-7.6001 186.8302,-10.4001\"/>\n",
       "</g>\n",
       "</g>\n",
       "</svg>\n"
      ],
      "text/plain": [
       "<graphviz.files.Source at 0x10f754390>"
      ]
     },
     "execution_count": 16,
     "metadata": {},
     "output_type": "execute_result"
    }
   ],
   "source": [
    "objviz(books)"
   ]
  },
  {
   "cell_type": "code",
   "execution_count": 17,
   "metadata": {},
   "outputs": [
    {
     "name": "stdout",
     "output_type": "stream",
     "text": [
      "Neal Asher: Gridlinked\n",
      "Startide Rising: David Brin\n"
     ]
    }
   ],
   "source": [
    "for b in books:\n",
    "    print(f\"{b.author}: {b.title}\") # access fields"
   ]
  },
  {
   "cell_type": "markdown",
   "metadata": {},
   "source": [
    "Notice that we do not pass the `self` parameter to the constructor. **It's implicit at the call site but explicit at the definition site!**"
   ]
  },
  {
   "cell_type": "markdown",
   "metadata": {},
   "source": [
    "## Naughty behavior\n",
    "\n",
    "Also notice that we have been setting fields of objects using the constructor, by Python in its infinite flexibility allows you to do very **naughty** things such as setting fields on arbitrary objects:"
   ]
  },
  {
   "cell_type": "code",
   "execution_count": 18,
   "metadata": {},
   "outputs": [],
   "source": [
    "class Foo:\n",
    "    pass # just says \"empty\"\n",
    "\n",
    "x = Foo()\n",
    "x.foo = 3"
   ]
  },
  {
   "cell_type": "markdown",
   "metadata": {},
   "source": [
    "That does not get an error even though the class itself does not define foo!\n",
    "\n",
    "You can even [add methods on the fly](https://stackoverflow.com/questions/972/adding-a-method-to-an-existing-object-instance)."
   ]
  },
  {
   "cell_type": "markdown",
   "metadata": {},
   "source": [
    "# Defining methods"
   ]
  },
  {
   "cell_type": "markdown",
   "metadata": {},
   "source": [
    "If you try to print out a book you will see just the type information and the physical memory address:"
   ]
  },
  {
   "cell_type": "code",
   "execution_count": 19,
   "metadata": {},
   "outputs": [
    {
     "name": "stdout",
     "output_type": "stream",
     "text": [
      "<__main__.Book object at 0x10f754518>\n"
     ]
    }
   ],
   "source": [
    "print(books[0])"
   ]
  },
  {
   "cell_type": "code",
   "execution_count": 20,
   "metadata": {},
   "outputs": [],
   "source": [
    "class Book:\n",
    "    def __init__(self, title, author):\n",
    "        self.title = title\n",
    "        self.author = author\n",
    "        \n",
    "    def __str__(self): # called when conversion to string needed like print\n",
    "        return f\"Book({self.title}, {self.author})\"\n",
    "    \n",
    "    def __repr__(self): # called in interactive mode\n",
    "        return self.__str__() # call the string\n",
    "    \n",
    "books = [\n",
    "    Book('Gridlinked', 'Neal Asher'),\n",
    "    Book('Startide Rising', 'David Brin')\n",
    "]"
   ]
  },
  {
   "cell_type": "code",
   "execution_count": 21,
   "metadata": {},
   "outputs": [
    {
     "name": "stdout",
     "output_type": "stream",
     "text": [
      "Book(Gridlinked, Neal Asher)\n"
     ]
    },
    {
     "data": {
      "text/plain": [
       "Book(Gridlinked, Neal Asher)"
      ]
     },
     "execution_count": 21,
     "metadata": {},
     "output_type": "execute_result"
    }
   ],
   "source": [
    "print(books[0]) # calls __str__()\n",
    "books[0]        # calls __repr__()"
   ]
  },
  {
   "cell_type": "markdown",
   "metadata": {},
   "source": [
    "Make sure that you use `self.x` to refer to field `x`, otherwise you are creating a local variable inside a method:"
   ]
  },
  {
   "cell_type": "code",
   "execution_count": 22,
   "metadata": {},
   "outputs": [],
   "source": [
    "class Foo:\n",
    "    def __init__(self):\n",
    "        self.x = 0\n",
    "    def foo(self):\n",
    "        x = 3 # WARNING: does not alter the field! should be self.x"
   ]
  },
  {
   "cell_type": "markdown",
   "metadata": {},
   "source": [
    "Let's create another method that sets the count of book sold."
   ]
  },
  {
   "cell_type": "code",
   "execution_count": 23,
   "metadata": {},
   "outputs": [],
   "source": [
    "class Book:\n",
    "    def __init__(self, title, author):\n",
    "        self.title = title\n",
    "        self.author = author\n",
    "        self.sold = 0 # set default\n",
    "        \n",
    "    def sell(self, n):\n",
    "        self.sold += n\n",
    "        \n",
    "    def __str__(self): # called when conversion to string needed like print\n",
    "        return f\"Book({self.title}, {self.author}, sold={self.sold})\"\n",
    "    \n",
    "    def __repr__(self): # called in interactive mode\n",
    "        return self.__str__() # call the string"
   ]
  },
  {
   "cell_type": "code",
   "execution_count": 24,
   "metadata": {},
   "outputs": [
    {
     "name": "stdout",
     "output_type": "stream",
     "text": [
      "Book(Gridlinked, Neal Asher, sold=0)\n",
      "Book(Gridlinked, Neal Asher, sold=100)\n"
     ]
    }
   ],
   "source": [
    "b = Book('Gridlinked', 'Neal Asher')\n",
    "print(b)\n",
    "b.sell(100) # Book.sell(b, 100)\n",
    "print(b)"
   ]
  },
  {
   "cell_type": "markdown",
   "metadata": {},
   "source": [
    "**Note**: that from *within* a method definition, we call other methods on the same object using `self.foo(...)` for method `foo`."
   ]
  },
  {
   "cell_type": "markdown",
   "metadata": {},
   "source": [
    "## The key to understanding methods versus functions\n",
    "\n",
    "`b.sell(100)` **method call** is translated and executed by the Python interpreter as **function call** `Book.sell(b,100)`. `b` becomes parameter `self` and so the `sell()` function is updating book `b`.\n",
    "\n",
    "Why we prefer `b.sell(100)` over `Book.sell(b,100)`: Instead of just functions, we send messages back and forth between objects. Instead of bark(dog) we say dog.bark() or instead of inflate(ball) we say ball.inflate()."
   ]
  },
  {
   "cell_type": "markdown",
   "metadata": {},
   "source": [
    "## Exercise"
   ]
  },
  {
   "cell_type": "markdown",
   "metadata": {},
   "source": [
    "Real-world objects contain ... and ...\n",
    "\n",
    "A software object's state is stored in ...\n",
    "\n",
    "A software object's behavior is exposed through ...\n",
    "\n",
    "A blueprint for a software object is called a ..."
   ]
  },
  {
   "cell_type": "markdown",
   "metadata": {},
   "source": [
    "## Exercise"
   ]
  },
  {
   "cell_type": "markdown",
   "metadata": {},
   "source": [
    "Define a class called `Point` that has a constructor taking x, y coordinates and make them fields of the class.\n",
    "\n",
    "Define method `distance(q)` that takes a `Point` and returns the Euclidean distance  from `self` to `q`.\n",
    "\n",
    "Test with\n",
    "\n",
    "```\n",
    "p = Point(3,4)\n",
    "q = Point(5,6)\n",
    "print(p.distance(q))\n",
    "```\n",
    "\n",
    "Add method `__str__` so that `print(q)` prints something nice like `(3,4)`."
   ]
  },
  {
   "cell_type": "markdown",
   "metadata": {},
   "source": [
    "### Solution"
   ]
  },
  {
   "cell_type": "code",
   "execution_count": 41,
   "metadata": {},
   "outputs": [],
   "source": [
    "import numpy as np\n",
    "\n",
    "class Point:\n",
    "    def __init__(self, x, y):\n",
    "        self.x = x\n",
    "        self.y = y\n",
    "        \n",
    "    def distance(self, other):\n",
    "        return np.sqrt( (self.x - other.x)**2 + (self.y - other.y)**2 )\n",
    "    \n",
    "    def __str__(self):\n",
    "        return f\"({self.x},{self.y})\""
   ]
  },
  {
   "cell_type": "code",
   "execution_count": 26,
   "metadata": {},
   "outputs": [
    {
     "name": "stdout",
     "output_type": "stream",
     "text": [
      "(3,4) (5,6)\n",
      "2.8284271247461903\n"
     ]
    }
   ],
   "source": [
    "p = Point(3,4)\n",
    "q = Point(5,6)\n",
    "print(p, q)\n",
    "print(p.distance(q))"
   ]
  },
  {
   "cell_type": "markdown",
   "metadata": {},
   "source": [
    "# Inheritance"
   ]
  },
  {
   "cell_type": "markdown",
   "metadata": {},
   "source": [
    "Defining something new as it relates to something we already understand is usually a lot easier. The same thing is true in programming. Let's start with an account object:"
   ]
  },
  {
   "cell_type": "code",
   "execution_count": 27,
   "metadata": {},
   "outputs": [],
   "source": [
    "class Account:\n",
    "    def __init__(self, starting):\n",
    "        self.balance = starting\n",
    "\n",
    "    def add(self, value):\n",
    "        self.balance += value\n",
    "\n",
    "    def total(self):\n",
    "        return self.balance"
   ]
  },
  {
   "cell_type": "code",
   "execution_count": 28,
   "metadata": {},
   "outputs": [
    {
     "data": {
      "text/plain": [
       "115.0"
      ]
     },
     "execution_count": 28,
     "metadata": {},
     "output_type": "execute_result"
    }
   ],
   "source": [
    "a = Account(100.0)\n",
    "a.add(15)\n",
    "a.total()"
   ]
  },
  {
   "cell_type": "code",
   "execution_count": 29,
   "metadata": {},
   "outputs": [
    {
     "data": {
      "image/svg+xml": [
       "<?xml version=\"1.0\" encoding=\"UTF-8\" standalone=\"no\"?>\n",
       "<!DOCTYPE svg PUBLIC \"-//W3C//DTD SVG 1.1//EN\"\n",
       " \"http://www.w3.org/Graphics/SVG/1.1/DTD/svg11.dtd\">\n",
       "<!-- Generated by graphviz version 2.40.1 (20161225.0304)\n",
       " -->\n",
       "<!-- Title: G Pages: 1 -->\n",
       "<svg width=\"89pt\" height=\"42pt\"\n",
       " viewBox=\"0.00 0.00 89.00 42.00\" xmlns=\"http://www.w3.org/2000/svg\" xmlns:xlink=\"http://www.w3.org/1999/xlink\">\n",
       "<g id=\"graph0\" class=\"graph\" transform=\"scale(1 1) rotate(0) translate(4 38)\">\n",
       "<title>G</title>\n",
       "<polygon fill=\"#ffffff\" stroke=\"transparent\" points=\"-4,4 -4,-38 85,-38 85,4 -4,4\"/>\n",
       "<!-- node4554347128 -->\n",
       "<g id=\"node1\" class=\"node\">\n",
       "<title>node4554347128</title>\n",
       "<polygon fill=\"#fefecd\" stroke=\"#444443\" stroke-width=\".5\" points=\"81,-34 0,-34 0,0 81,0 81,-34\"/>\n",
       "<polygon fill=\"#fefecd\" stroke=\"transparent\" points=\"2.5,-18 2.5,-32 79.5,-32 79.5,-18 2.5,-18\"/>\n",
       "<polyline fill=\"none\" stroke=\"#444443\" points=\"2.5,-18 79.5,-18 \"/>\n",
       "<text text-anchor=\"start\" x=\"22.5\" y=\"-22.2\" font-family=\"Times,serif\" font-style=\"italic\" font-size=\"11.00\" fill=\"#444443\">Account</text>\n",
       "<polygon fill=\"#fefecd\" stroke=\"transparent\" points=\"2.5,-16 2.5,-18 79.5,-18 79.5,-16 2.5,-16\"/>\n",
       "<polygon fill=\"#fefecd\" stroke=\"transparent\" points=\"2.5,-2 2.5,-16 46.5,-16 46.5,-2 2.5,-2\"/>\n",
       "<polyline fill=\"none\" stroke=\"#444443\" points=\"46.5,-2 46.5,-16 \"/>\n",
       "<text text-anchor=\"start\" x=\"3.5\" y=\"-6.2\" font-family=\"Helvetica,sans-Serif\" font-size=\"11.00\" fill=\"#444443\">balance </text>\n",
       "<polygon fill=\"#fefecd\" stroke=\"transparent\" points=\"46.5,-2 46.5,-16 79.5,-16 79.5,-2 46.5,-2\"/>\n",
       "<text text-anchor=\"start\" x=\"47.5\" y=\"-6.2\" font-family=\"Helvetica,sans-Serif\" font-size=\"11.00\" fill=\"#444443\"> 115.0</text>\n",
       "</g>\n",
       "</g>\n",
       "</svg>\n"
      ],
      "text/plain": [
       "<graphviz.files.Source at 0x10f75dcf8>"
      ]
     },
     "execution_count": 29,
     "metadata": {},
     "output_type": "execute_result"
    }
   ],
   "source": [
    "objviz(a)"
   ]
  },
  {
   "cell_type": "markdown",
   "metadata": {},
   "source": [
    "Inheritance behaves like an `import` or include operation from another class into a new class. (*Note that this is not really true, but we can think of it as an include for our purposes.*)\n",
    "\n",
    "If we do not specify a superclass, class `object` is the implicit superclass.  That class is called the root of the class hierarchy and defines a number of standard methods:"
   ]
  },
  {
   "cell_type": "code",
   "execution_count": 30,
   "metadata": {},
   "outputs": [
    {
     "name": "stdout",
     "output_type": "stream",
     "text": [
      "['__class__', '__delattr__', '__dir__', '__doc__', '__eq__', '__format__', '__ge__', '__getattribute__', '__gt__', '__hash__', '__init__', '__init_subclass__', '__le__', '__lt__', '__ne__', '__new__', '__reduce__', '__reduce_ex__', '__repr__', '__setattr__', '__sizeof__', '__str__', '__subclasshook__']\n"
     ]
    }
   ],
   "source": [
    "x = object() # yes, we can make a generic object\n",
    "print(dir(x))"
   ]
  },
  {
   "cell_type": "markdown",
   "metadata": {},
   "source": [
    "We could define an interest-bearing account as it differs from a regular account:"
   ]
  },
  {
   "cell_type": "code",
   "execution_count": 31,
   "metadata": {},
   "outputs": [
    {
     "data": {
      "text/plain": [
       "132.25"
      ]
     },
     "execution_count": 31,
     "metadata": {},
     "output_type": "execute_result"
    }
   ],
   "source": [
    "class InterestingAccount(Account): # derive from super class to get subclass\n",
    "    def __init__(self, starting, rate):\n",
    "        self.balance = starting # super().__init__(starting)\n",
    "        self.rate = rate\n",
    "    def total(self): # OVERRIDE method\n",
    "        return self.balance + self.balance * self.rate\n",
    "\n",
    "b = InterestingAccount(100.0, 0.15)\n",
    "b.add(15)\n",
    "b.total()"
   ]
  },
  {
   "cell_type": "code",
   "execution_count": 32,
   "metadata": {},
   "outputs": [
    {
     "data": {
      "image/svg+xml": [
       "<?xml version=\"1.0\" encoding=\"UTF-8\" standalone=\"no\"?>\n",
       "<!DOCTYPE svg PUBLIC \"-//W3C//DTD SVG 1.1//EN\"\n",
       " \"http://www.w3.org/Graphics/SVG/1.1/DTD/svg11.dtd\">\n",
       "<!-- Generated by graphviz version 2.40.1 (20161225.0304)\n",
       " -->\n",
       "<!-- Title: G Pages: 1 -->\n",
       "<svg width=\"98pt\" height=\"58pt\"\n",
       " viewBox=\"0.00 0.00 98.00 58.00\" xmlns=\"http://www.w3.org/2000/svg\" xmlns:xlink=\"http://www.w3.org/1999/xlink\">\n",
       "<g id=\"graph0\" class=\"graph\" transform=\"scale(1 1) rotate(0) translate(4 54)\">\n",
       "<title>G</title>\n",
       "<polygon fill=\"#ffffff\" stroke=\"transparent\" points=\"-4,4 -4,-54 94,-54 94,4 -4,4\"/>\n",
       "<!-- node4554312504 -->\n",
       "<g id=\"node1\" class=\"node\">\n",
       "<title>node4554312504</title>\n",
       "<polygon fill=\"#fefecd\" stroke=\"#444443\" stroke-width=\".5\" points=\"90,-50 0,-50 0,0 90,0 90,-50\"/>\n",
       "<polygon fill=\"#fefecd\" stroke=\"transparent\" points=\"2,-34 2,-48 88,-48 88,-34 2,-34\"/>\n",
       "<polyline fill=\"none\" stroke=\"#444443\" points=\"2,-34 88,-34 \"/>\n",
       "<text text-anchor=\"start\" x=\"3\" y=\"-38.2\" font-family=\"Times,serif\" font-style=\"italic\" font-size=\"11.00\" fill=\"#444443\">InterestingAccount</text>\n",
       "<polygon fill=\"#fefecd\" stroke=\"transparent\" points=\"2,-32 2,-34 88,-34 88,-32 2,-32\"/>\n",
       "<polygon fill=\"#fefecd\" stroke=\"transparent\" points=\"2,-18 2,-32 50,-32 50,-18 2,-18\"/>\n",
       "<polyline fill=\"none\" stroke=\"#444443\" points=\"50,-18 50,-32 \"/>\n",
       "<text text-anchor=\"start\" x=\"7\" y=\"-22.2\" font-family=\"Helvetica,sans-Serif\" font-size=\"11.00\" fill=\"#444443\">balance </text>\n",
       "<polygon fill=\"#fefecd\" stroke=\"transparent\" points=\"52,-18 52,-32 88,-32 88,-18 52,-18\"/>\n",
       "<text text-anchor=\"start\" x=\"53\" y=\"-22.2\" font-family=\"Helvetica,sans-Serif\" font-size=\"11.00\" fill=\"#444443\"> 115.0</text>\n",
       "<polygon fill=\"#fefecd\" stroke=\"transparent\" points=\"2,-16 2,-18 88,-18 88,-16 2,-16\"/>\n",
       "<polygon fill=\"#fefecd\" stroke=\"transparent\" points=\"2,-2 2,-16 50,-16 50,-2 2,-2\"/>\n",
       "<polyline fill=\"none\" stroke=\"#444443\" points=\"50,-2 50,-16 \"/>\n",
       "<text text-anchor=\"start\" x=\"26\" y=\"-6.2\" font-family=\"Helvetica,sans-Serif\" font-size=\"11.00\" fill=\"#444443\">rate </text>\n",
       "<polygon fill=\"#fefecd\" stroke=\"transparent\" points=\"52,-2 52,-16 88,-16 88,-2 52,-2\"/>\n",
       "<text text-anchor=\"start\" x=\"53\" y=\"-6.2\" font-family=\"Helvetica,sans-Serif\" font-size=\"11.00\" fill=\"#444443\"> 0.15</text>\n",
       "</g>\n",
       "</g>\n",
       "</svg>\n"
      ],
      "text/plain": [
       "<graphviz.files.Source at 0x10f767438>"
      ]
     },
     "execution_count": 32,
     "metadata": {},
     "output_type": "execute_result"
    }
   ],
   "source": [
    "objviz(b)"
   ]
  },
  {
   "cell_type": "markdown",
   "metadata": {},
   "source": [
    "The key is that we get to use `add()` without having to redefine it in `InterestingAccount` and `InterestingAccount` also gets to override what the `total()` of the account is.  We have *reused* and *refined* previous functionality. You can think of the superclass as defining some initial functions that we can reuse or override in the subclass.\n",
    "\n",
    "We can also *extend* the functionality by adding a method that is not in the superclass."
   ]
  },
  {
   "cell_type": "code",
   "execution_count": 33,
   "metadata": {},
   "outputs": [],
   "source": [
    "class InterestingAccount(Account): # derive from super class to get subclass\n",
    "    def __init__(self, starting, rate):\n",
    "        super().__init__(starting) # does self.balance = starting above\n",
    "        self.rate = rate\n",
    "\n",
    "    def total(self): # OVERRIDE method\n",
    "        return self.balance + self.balance * self.rate\n",
    "    \n",
    "    def profit(self):\n",
    "        return self.balance * self.rate"
   ]
  },
  {
   "cell_type": "code",
   "execution_count": 34,
   "metadata": {},
   "outputs": [
    {
     "data": {
      "text/plain": [
       "17.25"
      ]
     },
     "execution_count": 34,
     "metadata": {},
     "output_type": "execute_result"
    }
   ],
   "source": [
    "b = InterestingAccount(100.0, 0.15)\n",
    "b.add(15)\n",
    "b.profit()"
   ]
  },
  {
   "cell_type": "code",
   "execution_count": 35,
   "metadata": {
    "scrolled": true
   },
   "outputs": [
    {
     "name": "stdout",
     "output_type": "stream",
     "text": [
      "<class '__main__.Account'>\n",
      "<class '__main__.InterestingAccount'>\n"
     ]
    }
   ],
   "source": [
    "a = Account(100.0)\n",
    "b = InterestingAccount(100.0, 0.15)\n",
    "print(type(a))\n",
    "print(type(b))"
   ]
  },
  {
   "cell_type": "markdown",
   "metadata": {},
   "source": [
    "The class definitions are actually objects themselves that you can access with a secret field of any object:"
   ]
  },
  {
   "cell_type": "code",
   "execution_count": 36,
   "metadata": {},
   "outputs": [
    {
     "name": "stdout",
     "output_type": "stream",
     "text": [
      "<class '__main__.InterestingAccount'>\n",
      "<class '__main__.Account'>\n"
     ]
    }
   ],
   "source": [
    "print(b.__class__)\n",
    "print(b.__class__.__base__)"
   ]
  },
  {
   "cell_type": "markdown",
   "metadata": {},
   "source": [
    "## Exercise"
   ]
  },
  {
   "cell_type": "markdown",
   "metadata": {},
   "source": [
    "1. What is a class?\n",
    "1. What's the difference between a class and an instance?\n",
    "1. Define a new instance of class `Foo` using a constructor that takes no arguments.\n",
    "1. What is the syntax to access a field of an object?\n",
    "1. How does a method differ from a function?\n",
    "1. What does the `__init__` method do?\n",
    "1. Given classes `Employee` and `Manager`, which is the superclass in which is the subclass?\n",
    "1. Can a method in a subclass call a method defined in the superclass?\n",
    "1. How do you override a method inherited from your superclass?"
   ]
  },
  {
   "cell_type": "markdown",
   "metadata": {},
   "source": [
    "## Dynamic dispatch (Advanced)"
   ]
  },
  {
   "cell_type": "markdown",
   "metadata": {},
   "source": [
    "When you call `b.add(15)`, Python looks up function `add` within the object definition for `b` (`InterestingAccount`).  Because we have inherited that method from the superclass, subclass knows about it. When we call `b.total()`, Python again looks up method within `InterestingAccount` and finds an overridden method. That is why `b.total()` doesn't invoke the `Account` version.\n",
    "\n",
    "This behavior is desirable but extremely confusing at first. Here is an example of it in action where I have added a `__str__` method to the superclass:"
   ]
  },
  {
   "cell_type": "code",
   "execution_count": 37,
   "metadata": {},
   "outputs": [],
   "source": [
    "class Account:\n",
    "    def __init__(self, starting):\n",
    "        self.balance = starting\n",
    "\n",
    "    def add(self, value):\n",
    "        self.balance += value\n",
    "\n",
    "    def total(self):\n",
    "        return self.balance\n",
    "    \n",
    "    def __str__(self):\n",
    "        return f\"Balance {self.total()}\" # can call 2 different functions\n",
    "    \n",
    "class InterestingAccount(Account): # derive from super class to get subclass\n",
    "    def __init__(self, starting, rate):\n",
    "        self.balance = starting\n",
    "        self.rate = rate\n",
    "\n",
    "    def total(self): # OVERRIDE method\n",
    "        return self.balance + self.balance * self.rate\n",
    "    \n",
    "    def profit(self):\n",
    "        return self.balance * self.rate"
   ]
  },
  {
   "cell_type": "markdown",
   "metadata": {},
   "source": [
    "The devious part is that `__str__` in `Account` calls `Account.total()` or `InterestingAccount.total()`, depending on the type of `self`:"
   ]
  },
  {
   "cell_type": "code",
   "execution_count": 38,
   "metadata": {},
   "outputs": [
    {
     "name": "stdout",
     "output_type": "stream",
     "text": [
      "Balance 100.0\n",
      "Balance 115.0\n"
     ]
    }
   ],
   "source": [
    "a = Account(100.0)\n",
    "b = InterestingAccount(100.0, 0.15)\n",
    "print(a) # calls Account.total()\n",
    "print(b) # calls InterestingAccount.total()"
   ]
  },
  {
   "cell_type": "markdown",
   "metadata": {
    "code_folding": []
   },
   "source": [
    "## Exercise"
   ]
  },
  {
   "cell_type": "markdown",
   "metadata": {},
   "source": [
    "Define a `Point3D` that inherits from `Point`. \n",
    "\n",
    "Define constructor that takes x,y,z values and sets fields. Call `super().__init__(x,y)` to call constructor of superclass.\n",
    "\n",
    "Define / override `distance(q)` so it works with 3D field values to return distance.\n",
    "\n",
    "Test with\n",
    "\n",
    "```\n",
    "p = Point3D(3,4,9)\n",
    "q = Point3D(5,6,10)\n",
    "print(p.distance(q))\n",
    "```\n",
    "\n",
    "Add method `__str__` so that `print(q)` prints something nice like `(3,4,5)`.  Recall:\n",
    "\n",
    "\n",
    "$dist(x,y) = \\sqrt{(x_1-y_1)^2 + (x_2-y_2)^2 + (x_3-y_3)^2)}$\n"
   ]
  },
  {
   "cell_type": "markdown",
   "metadata": {},
   "source": [
    "### Solution"
   ]
  },
  {
   "cell_type": "code",
   "execution_count": 39,
   "metadata": {},
   "outputs": [],
   "source": [
    "import numpy as np\n",
    "\n",
    "class Point3D(Point):\n",
    "    def __init__(self, x, y, z):\n",
    "        # reuse/refine super class constructor\n",
    "        super().__init__(x,y)\n",
    "        self.z = z\n",
    "        \n",
    "    def distance(self, other):\n",
    "        return np.sqrt( (self.x - other.x)**2 +\n",
    "                        (self.y - other.y)**2 +\n",
    "                        (self.z - other.z)**2 )\n",
    "    \n",
    "    def __str__(self):\n",
    "        return f\"({self.x},{self.y},{self.z})\""
   ]
  },
  {
   "cell_type": "code",
   "execution_count": 40,
   "metadata": {},
   "outputs": [
    {
     "name": "stdout",
     "output_type": "stream",
     "text": [
      "3.0\n"
     ]
    }
   ],
   "source": [
    "p = Point3D(3,4,9)\n",
    "q = Point3D(5,6,10)\n",
    "print(p.distance(q))"
   ]
  },
  {
   "cell_type": "markdown",
   "metadata": {},
   "source": [
    "# Rationale and general thoughts"
   ]
  },
  {
   "cell_type": "markdown",
   "metadata": {},
   "source": [
    "Because the mind of a hunter-gatherer views the world as a collection\n",
    "of objects that interact by sending messages, an OO programming paradigm\n",
    "maps well to the real world problems we try to simulate via computer.\n",
    "Further, we are at our best when programming the way our minds are\n",
    "hardwired to think.\n",
    "\n",
    "In general when writing software, we try to map real-world entities onto programming constructs. If we take a word problem, the nouns typically become objects and the verbs typically become methods within these objects.\n",
    "\n",
    "Because we can specify how differently-typed objects are similar,\n",
    "we can define new objects as they differ from existing objects.\n",
    "By correctly relating similar classes by their category/commonality/\n",
    "similarity, code reuse occurs as a side-effect of inheritance.\n",
    "\n",
    "Non-OO languages are inflexible/brittle because the exact type\n",
    "of variables must be specified.  In OO languages, *polymorphism* is the ability to refer to groups of similar but different types using a single type reference."
   ]
  }
 ],
 "metadata": {
  "kernelspec": {
   "display_name": "Python 3",
   "language": "python",
   "name": "python3"
  },
  "language_info": {
   "codemirror_mode": {
    "name": "ipython",
    "version": 3
   },
   "file_extension": ".py",
   "mimetype": "text/x-python",
   "name": "python",
   "nbconvert_exporter": "python",
   "pygments_lexer": "ipython3",
   "version": "3.7.1"
  },
  "toc": {
   "colors": {
    "hover_highlight": "#DAA520",
    "navigate_num": "#000000",
    "navigate_text": "#333333",
    "running_highlight": "#FF0000",
    "selected_highlight": "#FFD700",
    "sidebar_border": "#EEEEEE",
    "wrapper_background": "#FFFFFF"
   },
   "moveMenuLeft": true,
   "nav_menu": {
    "height": "178px",
    "width": "252px"
   },
   "navigate_menu": true,
   "number_sections": true,
   "sideBar": true,
   "skip_h1_title": false,
   "threshold": 4,
   "toc_cell": false,
   "toc_position": {
    "height": "920px",
    "left": "0px",
    "right": "793.6px",
    "top": "136px",
    "width": "212px"
   },
   "toc_section_display": "block",
   "toc_window_display": false,
   "widenNotebook": false
  }
 },
 "nbformat": 4,
 "nbformat_minor": 2
}
